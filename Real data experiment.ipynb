{
 "cells": [
  {
   "cell_type": "code",
   "execution_count": 1,
   "metadata": {},
   "outputs": [],
   "source": [
    "import os\n",
    "import array\n",
    "\n",
    "data_path = 'korp_stats/korp_stats.bin'\n",
    "\n",
    "with open(data_path, 'rb') as file:\n",
    "\n",
    "    double_size = 8\n",
    "\n",
    "    n_nums = int(os.path.getsize(data_path)/double_size)\n",
    "    n_content = 5\n",
    "    if n_nums % n_content != 0:\n",
    "        print(\"Oops, something went wrong with the file size and contents.\")\n",
    "    n_entries = int(n_nums/n_content)\n",
    "    data = array.array('d')\n",
    "    data.fromfile(file, n_nums)"
   ]
  },
  {
   "cell_type": "code",
   "execution_count": 2,
   "metadata": {},
   "outputs": [
    {
     "name": "stdout",
     "output_type": "stream",
     "text": [
      "(47916041, 5)\n"
     ]
    }
   ],
   "source": [
    "import numpy as np\n",
    "\n",
    "data = np.array(data)\n",
    "data = np.reshape(data, (n_entries, n_content))\n",
    "print(np.shape(data))"
   ]
  },
  {
   "cell_type": "code",
   "execution_count": 3,
   "metadata": {},
   "outputs": [
    {
     "name": "stdout",
     "output_type": "stream",
     "text": [
      "(111801, 5)\n"
     ]
    }
   ],
   "source": [
    "sub_data = data[np.where((data[:, 0] == 0) & (data[:, 1] == 1))]\n",
    "print(sub_data.shape)"
   ]
  },
  {
   "cell_type": "code",
   "execution_count": 6,
   "metadata": {},
   "outputs": [
    {
     "data": {
      "text/plain": [
       "array([-1.,  0.,  1.,  2.,  3.,  4.,  5.,  6.,  7.,  8.,  9., 10., 11.,\n",
       "       12., 13., 14., 15., 16., 17., 18., 19., 20., 21., 22., 23., 24.,\n",
       "       25., 26., 27., 28., 29., 30., 31., 32., 33., 34., 35., 36., 37.,\n",
       "       38.])"
      ]
     },
     "execution_count": 6,
     "metadata": {},
     "output_type": "execute_result"
    }
   ],
   "source": [
    "np.unique(data[:,1])"
   ]
  },
  {
   "cell_type": "code",
   "execution_count": null,
   "metadata": {},
   "outputs": [],
   "source": []
  },
  {
   "cell_type": "code",
   "execution_count": 5,
   "metadata": {},
   "outputs": [],
   "source": [
    "sub_data.tofile('sub_data.txt')"
   ]
  },
  {
   "cell_type": "code",
   "execution_count": 6,
   "metadata": {},
   "outputs": [
    {
     "data": {
      "text/plain": [
       "array([[ 0.        ,  1.        , 12.96193846,  0.602894  ,  4.54008123],\n",
       "       [ 0.        ,  1.        ,  6.77599851,  1.20618048,  3.76882457],\n",
       "       [ 0.        ,  1.        ,  9.44071993,  1.13422512,  0.09576866],\n",
       "       [ 0.        ,  1.        , 12.03416768,  2.17699827,  4.75426578],\n",
       "       [ 0.        ,  1.        , 14.05010736,  0.14042344,  5.29959809]])"
      ]
     },
     "execution_count": 6,
     "metadata": {},
     "output_type": "execute_result"
    }
   ],
   "source": [
    "sub_data[:5]"
   ]
  },
  {
   "cell_type": "code",
   "execution_count": null,
   "metadata": {},
   "outputs": [],
   "source": []
  }
 ],
 "metadata": {
  "kernelspec": {
   "display_name": "Python 3",
   "language": "python",
   "name": "python3"
  },
  "language_info": {
   "codemirror_mode": {
    "name": "ipython",
    "version": 3
   },
   "file_extension": ".py",
   "mimetype": "text/x-python",
   "name": "python",
   "nbconvert_exporter": "python",
   "pygments_lexer": "ipython3",
   "version": "3.6.10"
  }
 },
 "nbformat": 4,
 "nbformat_minor": 4
}
